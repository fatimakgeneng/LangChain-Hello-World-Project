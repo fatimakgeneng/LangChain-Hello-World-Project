{
  "nbformat": 4,
  "nbformat_minor": 0,
  "metadata": {
    "colab": {
      "provenance": [],
      "authorship_tag": "ABX9TyOmDe4HRBCSZQ88XQUbs+Gr",
      "include_colab_link": true
    },
    "kernelspec": {
      "name": "python3",
      "display_name": "Python 3"
    },
    "language_info": {
      "name": "python"
    }
  },
  "cells": [
    {
      "cell_type": "markdown",
      "metadata": {
        "id": "view-in-github",
        "colab_type": "text"
      },
      "source": [
        "<a href=\"https://colab.research.google.com/github/fatimakgeneng/LangChain-Hello-World-Project/blob/main/LangChain_Hello_World_Project.ipynb\" target=\"_parent\"><img src=\"https://colab.research.google.com/assets/colab-badge.svg\" alt=\"Open In Colab\"/></a>"
      ]
    },
    {
      "cell_type": "markdown",
      "source": [
        "**Project 1: LangChain Hello World Project**"
      ],
      "metadata": {
        "id": "BbcOxTYHE7zt"
      }
    },
    {
      "cell_type": "code",
      "source": [
        "#Install to packages\n",
        "# 1. Langchain --> a framework for LLM\n",
        "# 2. Langchain Google GenAI --> To seamlessly integrate Langchain with Gemini's models\n",
        "\n",
        "%pip install -q -U langchain langchain-google-genai"
      ],
      "metadata": {
        "collapsed": true,
        "id": "cguczPPgChhJ"
      },
      "execution_count": 19,
      "outputs": []
    },
    {
      "cell_type": "code",
      "source": [
        "# Import SDK to avoid writing complex http requests/authentication\n",
        "\n",
        "import langchain_google_genai as genai"
      ],
      "metadata": {
        "id": "nn9s-LBCF0xe"
      },
      "execution_count": 20,
      "outputs": []
    },
    {
      "cell_type": "code",
      "source": [
        "# from Langchain Google GenAI call the tool (i.e. object) neccessary for chat\n",
        "from langchain_google_genai import ChatGoogleGenerativeAI\n",
        "                                  #this is a class bcz initial letters are capitalized"
      ],
      "metadata": {
        "id": "6NNG52auJdNN"
      },
      "execution_count": 21,
      "outputs": []
    },
    {
      "cell_type": "code",
      "source": [
        "# fetching key from secrets\n",
        "\n",
        "from google.colab import userdata\n",
        "google_api_key = userdata.get('GOOGLE_API_KEY')"
      ],
      "metadata": {
        "id": "vSVIZRj0JG7E"
      },
      "execution_count": 22,
      "outputs": []
    },
    {
      "cell_type": "code",
      "source": [
        "# LLM is a variable who's type is ChatGoogleGenerativeAI\n",
        "\n",
        "llm: ChatGoogleGenerativeAI = ChatGoogleGenerativeAI(\n",
        "    model=\"gemini-1.5-flash\",\n",
        "    api_key=google_api_key)"
      ],
      "metadata": {
        "id": "rLntmD47K0zz"
      },
      "execution_count": 24,
      "outputs": []
    },
    {
      "cell_type": "code",
      "source": [
        "response = llm.invoke(f\"\"\" Bold and highlight the key areas in green color for the following and greet everyone in a catchy way:\n",
        "This is my first successful Langchain program\"\"\")"
      ],
      "metadata": {
        "id": "OXSldgO0P94d"
      },
      "execution_count": 79,
      "outputs": []
    },
    {
      "cell_type": "code",
      "source": [
        "print(response.content)"
      ],
      "metadata": {
        "colab": {
          "base_uri": "https://localhost:8080/"
        },
        "id": "NCZ4pkudcZKo",
        "outputId": "65b215f1-2c19-44f6-f5b0-93ded5db3b2f"
      },
      "execution_count": 80,
      "outputs": [
        {
          "output_type": "stream",
          "name": "stdout",
          "text": [
            "Hey there, code wizards! ✨\n",
            "\n",
            "This is my first successful <font color=\"green\">**Langchain program**</font>\n",
            "\n"
          ]
        }
      ]
    },
    {
      "cell_type": "code",
      "source": [
        "from IPython.display import HTML, display, Markdown"
      ],
      "metadata": {
        "id": "-vgYgIVcWoZ0"
      },
      "execution_count": 81,
      "outputs": []
    },
    {
      "cell_type": "code",
      "source": [
        "markdown_content = response.content\n",
        "display(Markdown(markdown_content))"
      ],
      "metadata": {
        "colab": {
          "base_uri": "https://localhost:8080/",
          "height": 70
        },
        "id": "YdNlLs-6QIEd",
        "outputId": "2c21ce80-902d-4538-cc4c-916404943317"
      },
      "execution_count": 82,
      "outputs": [
        {
          "output_type": "display_data",
          "data": {
            "text/plain": [
              "<IPython.core.display.Markdown object>"
            ],
            "text/markdown": "Hey there, code wizards! ✨\n\nThis is my first successful <font color=\"green\">**Langchain program**</font>\n"
          },
          "metadata": {}
        }
      ]
    }
  ]
}